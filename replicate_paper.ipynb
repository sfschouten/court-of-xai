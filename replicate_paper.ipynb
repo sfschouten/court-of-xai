{
 "cells": [
  {
   "cell_type": "code",
   "execution_count": null,
   "metadata": {},
   "outputs": [],
   "source": [
    "%load_ext autoreload\n",
    "%autoreload 2\n",
    "%matplotlib inline\n",
    "%config InlineBackend.figure_format = 'retina'"
   ]
  },
  {
   "cell_type": "markdown",
   "metadata": {},
   "source": [
    "# Sparse Attention is Consistent with Feature Importance\n",
    "\n",
    "A simple notebook for reproducing our results."
   ]
  },
  {
   "cell_type": "code",
   "execution_count": null,
   "metadata": {},
   "outputs": [],
   "source": [
    "from importlib import reload\n",
    "import logging\n",
    "from ane_research.config import Config\n",
    "from ane_research.utils.logger import initialize_logger\n",
    "from IPython.display import Image, display\n",
    "\n",
    "# clear any logging relics\n",
    "reload(logging)\n",
    "logger = initialize_logger(Config.logger_name, in_notebook=True)"
   ]
  },
  {
   "cell_type": "markdown",
   "metadata": {},
   "source": [
    "## Option 1: Run All Experiments"
   ]
  },
  {
   "cell_type": "code",
   "execution_count": null,
   "metadata": {},
   "outputs": [],
   "source": [
    "from ane_research.utils.experiments import run_all_experiments_in_dir\n",
    "\n",
    "experiments = run_all_experiments_in_dir('experiments')\n",
    "for experiment in experiments:\n",
    "    graphs = experiment.get_figure_paths()\n",
    "    for graph in graphs:\n",
    "        display(Image(filename=graph))"
   ]
  },
  {
   "cell_type": "markdown",
   "metadata": {},
   "source": [
    "## Option 2: Run Specific Experiments"
   ]
  },
  {
   "cell_type": "code",
   "execution_count": null,
   "metadata": {},
   "outputs": [],
   "source": [
    "from ane_research.utils.experiments import run_experiment\n",
    "\n",
    "# Edit as necessary - These are the 8 runs we performed in the paper\n",
    "experiments_list = [\n",
    "    'experiments/sst_tanh_sparsemax.jsonnet',\n",
    "    'experiments/sst_tanh_softmax.jsonnet',\n",
    "    'experiments/sst_sdp_sparsemax.jsonnet',\n",
    "    'experiments/sst_sdp_softmax_jsonnet',\n",
    "    'experiments/imdb_tanh_sparsemax.jsonnet',\n",
    "    'experiments/imdb_tanh_softmax.jsonnet',\n",
    "    'experiments/imdb_sdp_sparsemax.jsonnet',\n",
    "    'experiments/imdb_sdp_softmax_jsonnet',\n",
    "]\n",
    "\n",
    "for experiment_file in experiments_list:\n",
    "    experiment = run_experiment(experiment_file)\n",
    "    graphs = experiment.get_figure_paths()\n",
    "    for graph in graphs:\n",
    "        # These graphs are big!\n",
    "        display(Image(filename=graph))\n",
    "        "
   ]
  }
 ],
 "metadata": {
  "kernelspec": {
   "display_name": "Python 3",
   "language": "python",
   "name": "python3"
  },
  "language_info": {
   "codemirror_mode": {
    "name": "ipython",
    "version": 3
   },
   "file_extension": ".py",
   "mimetype": "text/x-python",
   "name": "python",
   "nbconvert_exporter": "python",
   "pygments_lexer": "ipython3",
   "version": "3.6.9"
  }
 },
 "nbformat": 4,
 "nbformat_minor": 4
}
